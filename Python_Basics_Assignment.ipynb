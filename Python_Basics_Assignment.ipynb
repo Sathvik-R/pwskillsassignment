{
 "cells": [
  {
   "cell_type": "markdown",
   "id": "c4cc90f4",
   "metadata": {},
   "source": [
    "#### Variable based questions"
   ]
  },
  {
   "cell_type": "code",
   "execution_count": 2,
   "id": "9a57b73d",
   "metadata": {},
   "outputs": [
    {
     "name": "stdout",
     "output_type": "stream",
     "text": [
      "Values before swapping\n",
      "Value of x: 10\n",
      "Value of y: 20\n",
      "Values after swapping\n",
      "Value of x: 20\n",
      "Value of y: 10\n"
     ]
    }
   ],
   "source": [
    "#1)Declare two variables, `x` and `y`, and assign them integer values. Swap the values of these variables without using \n",
    "#any temporary variable.\n",
    "\n",
    "x=10\n",
    "y=20\n",
    "\n",
    "print(\"Values before swapping\")\n",
    "print(\"Value of x:\",x)\n",
    "print(\"Value of y:\",y)\n",
    "\n",
    "x,y = y,x\n",
    "\n",
    "print(\"Values after swapping\")\n",
    "print(\"Value of x:\",x)\n",
    "print(\"Value of y:\",y)"
   ]
  },
  {
   "cell_type": "code",
   "execution_count": 3,
   "id": "22dc376d",
   "metadata": {},
   "outputs": [
    {
     "name": "stdout",
     "output_type": "stream",
     "text": [
      "Enter the length of rectangle: 10\n",
      "Enter the breadth of rectangle: 20\n",
      "The area of rectangle is: 200.0\n"
     ]
    }
   ],
   "source": [
    "#2) Create a program that calculates the area of a rectangle. Take the length and width as inputs from the user and \n",
    "#store them in variables. Calculate and display the area.\n",
    "\n",
    "length = float(input(\"Enter the length of rectangle: \"))\n",
    "width = float(input(\"Enter the breadth of rectangle: \"))\n",
    "\n",
    "area = length * width\n",
    "\n",
    "print(f'The area of rectangle is: {area}')"
   ]
  },
  {
   "cell_type": "code",
   "execution_count": 4,
   "id": "f8dfab69",
   "metadata": {},
   "outputs": [
    {
     "name": "stdout",
     "output_type": "stream",
     "text": [
      "Enter the temperature in celsius: 89\n",
      "89.0 degree celisus is equal to 192.20 degree fahrenheit\n"
     ]
    }
   ],
   "source": [
    "#3) Write a Python program that converts temperatures from Celsius to Fahrenheit.Take the temperature in Celsius as input, \n",
    "#store it in a variable, convert it to Fahrenheit, and display the result.\n",
    "\n",
    "celsius = float(input(\"Enter the temperature in celsius: \"))\n",
    "\n",
    "fahrenheit = (celsius * 9/5) + 32\n",
    "\n",
    "print(f'{celsius} degree celisus is equal to {fahrenheit:.2f} degree fahrenheit')"
   ]
  },
  {
   "cell_type": "markdown",
   "id": "53b1802b",
   "metadata": {},
   "source": [
    " #### String based questions"
   ]
  },
  {
   "cell_type": "code",
   "execution_count": 1,
   "id": "ed61e1da",
   "metadata": {},
   "outputs": [
    {
     "name": "stdout",
     "output_type": "stream",
     "text": [
      "Enter a string: pwskills\n",
      "Length of inputstring: 8\n"
     ]
    }
   ],
   "source": [
    "#1) Write a Python program that takes a string as input and prints the length of the string.\n",
    "inputString = str(input(\"Enter a string: \"))\n",
    "string_length = len(inputString)\n",
    "print(f\"Length of inputstring: {string_length}\")"
   ]
  },
  {
   "cell_type": "code",
   "execution_count": 5,
   "id": "42bf134b",
   "metadata": {},
   "outputs": [
    {
     "name": "stdout",
     "output_type": "stream",
     "text": [
      "Enter the sentence: I am learning DATA SCIENCE in pwskills\n",
      "The number of vowels in sentence is:  12\n"
     ]
    }
   ],
   "source": [
    "#2) Create a program that takes a sentence from the user and counts the number of vowels (a, e, i, o, u) in the string.\n",
    "inputSentence = str(input(\"Enter the sentence: \"))\n",
    "\n",
    "vowels=\"aeiou\"\n",
    "\n",
    "vowel_count=0\n",
    "\n",
    "for char in inputSentence:\n",
    "    if char.lower() in vowels:\n",
    "        vowel_count+=1\n",
    "      \n",
    "print(f\"The number of vowels in sentence is: \",vowel_count)"
   ]
  },
  {
   "cell_type": "code",
   "execution_count": 6,
   "id": "70ff2aa6",
   "metadata": {},
   "outputs": [
    {
     "name": "stdout",
     "output_type": "stream",
     "text": [
      "The reversed string is SLLIKSWP\n"
     ]
    }
   ],
   "source": [
    "#3) Given a string, reverse the order of characters using string slicing and print the reversed string.\n",
    "\n",
    "inputString=\"PWSKILLS\"\n",
    "\n",
    "reversedString=inputString[::-1]\n",
    "\n",
    "print(\"The reversed string is\",reversedString)"
   ]
  },
  {
   "cell_type": "code",
   "execution_count": 15,
   "id": "f2db30e3",
   "metadata": {},
   "outputs": [
    {
     "name": "stdout",
     "output_type": "stream",
     "text": [
      "Enter a string: Radar\n",
      "radar\n",
      "The input string is a pallindrome\n"
     ]
    }
   ],
   "source": [
    "#4) Write a program that takes a string as input and checks if it is a palindrome (reads the same forwards and backwards).\n",
    "\n",
    "inputString=str(input(\"Enter a string: \")).lower()\n",
    "print(inputString)\n",
    "\n",
    "reversedString=inputString[::-1]\n",
    "\n",
    "if inputString == reversedString:\n",
    "    print(\"The input string is a pallindrome\")\n",
    "else:\n",
    "    print(\"The input string is not a pallindrome\")\n"
   ]
  },
  {
   "cell_type": "code",
   "execution_count": 17,
   "id": "3f418263",
   "metadata": {},
   "outputs": [
    {
     "name": "stdout",
     "output_type": "stream",
     "text": [
      "Enter a string: hello \n",
      "Modified string without spaces: hello\n"
     ]
    }
   ],
   "source": [
    "#5) Create a program that takes a string as input and removes all the spaces from it. Print the modified string without spaces.\n",
    "\n",
    "input_string = input(\"Enter a string: \")\n",
    "\n",
    "modified_string = input_string.replace(\" \", \"\")\n",
    "\n",
    "# Display the modified string without spaces\n",
    "print(\"Modified string without spaces:\", modified_string)"
   ]
  },
  {
   "cell_type": "code",
   "execution_count": null,
   "id": "b77aa3c3",
   "metadata": {},
   "outputs": [],
   "source": []
  }
 ],
 "metadata": {
  "kernelspec": {
   "display_name": "Python 3 (ipykernel)",
   "language": "python",
   "name": "python3"
  },
  "language_info": {
   "codemirror_mode": {
    "name": "ipython",
    "version": 3
   },
   "file_extension": ".py",
   "mimetype": "text/x-python",
   "name": "python",
   "nbconvert_exporter": "python",
   "pygments_lexer": "ipython3",
   "version": "3.9.12"
  }
 },
 "nbformat": 4,
 "nbformat_minor": 5
}
